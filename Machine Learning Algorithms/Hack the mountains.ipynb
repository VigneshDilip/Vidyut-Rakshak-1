{
  "nbformat": 4,
  "nbformat_minor": 0,
  "metadata": {
    "colab": {
      "name": "Kerala Reboot Hackathon",
      "provenance": [],
      "collapsed_sections": [],
      "authorship_tag": "ABX9TyN01G0O13WGb4aaunF/jpu9",
      "include_colab_link": true
    },
    "kernelspec": {
      "name": "python3",
      "display_name": "Python 3"
    }
  },
  "cells": [
    {
      "cell_type": "markdown",
      "metadata": {
        "id": "view-in-github",
        "colab_type": "text"
      },
      "source": [
        "<a href=\"https://colab.research.google.com/github/yvkrishna/Vidyut-Rakshak/blob/master/Kerala_Reboot_Hackathon.ipynb\" target=\"_parent\"><img src=\"https://colab.research.google.com/assets/colab-badge.svg\" alt=\"Open In Colab\"/></a>"
      ]
    },
    {
      "cell_type": "code",
      "metadata": {
        "id": "i6tDfrEKRhzP",
        "colab_type": "code",
        "colab": {}
      },
      "source": [
        "import tensorflow as tf\n",
        "import csv\n",
        "import numpy as np\n",
        "import tensorflow as tf\n",
        "import pandas as pd\n",
        "import matplotlib.pyplot as plt\n",
        "from tensorflow import keras\n",
        "from tensorflow.keras import layers"
      ],
      "execution_count": 68,
      "outputs": []
    },
    {
      "cell_type": "code",
      "metadata": {
        "id": "gcRYrjI2AF8p",
        "colab_type": "code",
        "colab": {}
      },
      "source": [
        "df = pd.read_csv(\"DummyDataset.csv\")\n",
        "dfv = pd.read_csv(\"validation.csv\")"
      ],
      "execution_count": 219,
      "outputs": []
    },
    {
      "cell_type": "code",
      "metadata": {
        "id": "_NginxL2BPCW",
        "colab_type": "code",
        "colab": {}
      },
      "source": [
        "output_classes = df.pop('Target')\n",
        "output_classes_v = dfv.pop('Target')"
      ],
      "execution_count": 220,
      "outputs": []
    },
    {
      "cell_type": "code",
      "metadata": {
        "id": "-POkzkJlCFl4",
        "colab_type": "code",
        "colab": {}
      },
      "source": [
        "dataset = tf.data.Dataset.from_tensor_slices((df.values, output_classes.values)).batch(2)\n",
        "dataset_v = tf.data.Dataset.from_tensor_slices((dfv.values, output_classes_v.values)).batch(2)"
      ],
      "execution_count": 221,
      "outputs": []
    },
    {
      "cell_type": "code",
      "metadata": {
        "id": "6fASShl0CMAz",
        "colab_type": "code",
        "colab": {}
      },
      "source": [
        "# for feat, targ in dataset_v.take(5):\n",
        "#   print ('Features: {}, Target: {}'.format(feat, targ))"
      ],
      "execution_count": 222,
      "outputs": []
    },
    {
      "cell_type": "code",
      "metadata": {
        "id": "DHCS_VpZCXI3",
        "colab_type": "code",
        "colab": {}
      },
      "source": [
        "# train_dataset = dataset.shuffle(len(df)).batch(1)"
      ],
      "execution_count": 223,
      "outputs": []
    },
    {
      "cell_type": "code",
      "metadata": {
        "id": "Uc4od-9SCf6s",
        "colab_type": "code",
        "colab": {}
      },
      "source": [
        "def get_compiled_model():\n",
        "  model = tf.keras.Sequential([tf.keras.layers.Dense(5, activation=\"relu\"),\n",
        "                               tf.keras.layers.Dense(1, activation=\"sigmoid\")\n",
        "                              ])\n",
        "\n",
        "  model.compile(optimizer='adam',\n",
        "                loss=tf.keras.losses.BinaryCrossentropy(from_logits=False),\n",
        "                metrics=['accuracy'])\n",
        "  return model"
      ],
      "execution_count": 224,
      "outputs": []
    },
    {
      "cell_type": "code",
      "metadata": {
        "id": "O2P8mBDQCkq6",
        "colab_type": "code",
        "colab": {
          "base_uri": "https://localhost:8080/",
          "height": 810
        },
        "outputId": "c5826334-ee16-4516-8ca9-74f2729834f0"
      },
      "source": [
        "model = get_compiled_model()\n",
        "history = model.fit(dataset, epochs=20,shuffle=True)"
      ],
      "execution_count": 225,
      "outputs": [
        {
          "output_type": "stream",
          "text": [
            "Epoch 1/20\n",
            "WARNING:tensorflow:Layer dense_40 is casting an input tensor from dtype float64 to the layer's dtype of float32, which is new behavior in TensorFlow 2.  The layer has dtype float32 because its dtype defaults to floatx.\n",
            "\n",
            "If you intended to run this layer in float32, you can safely ignore this warning. If in doubt, this warning is likely only an issue if you are porting a TensorFlow 1.X model to TensorFlow 2.\n",
            "\n",
            "To change all layers to have dtype float64 by default, call `tf.keras.backend.set_floatx('float64')`. To change just this layer, pass dtype='float64' to the layer constructor. If you are the author of this layer, you can disable autocasting by passing autocast=False to the base Layer constructor.\n",
            "\n",
            "500/500 [==============================] - 0s 841us/step - loss: 2.2952 - accuracy: 0.9190\n",
            "Epoch 2/20\n",
            "500/500 [==============================] - 0s 866us/step - loss: 0.7492 - accuracy: 0.9390\n",
            "Epoch 3/20\n",
            "500/500 [==============================] - 0s 857us/step - loss: 0.7174 - accuracy: 0.9390\n",
            "Epoch 4/20\n",
            "500/500 [==============================] - 0s 783us/step - loss: 0.7408 - accuracy: 0.9380\n",
            "Epoch 5/20\n",
            "500/500 [==============================] - 0s 798us/step - loss: 0.7518 - accuracy: 0.9370\n",
            "Epoch 6/20\n",
            "500/500 [==============================] - 0s 830us/step - loss: 0.7502 - accuracy: 0.9360\n",
            "Epoch 7/20\n",
            "500/500 [==============================] - 0s 800us/step - loss: 0.7415 - accuracy: 0.9360\n",
            "Epoch 8/20\n",
            "500/500 [==============================] - 0s 830us/step - loss: 0.7296 - accuracy: 0.9360\n",
            "Epoch 9/20\n",
            "500/500 [==============================] - 0s 800us/step - loss: 0.7167 - accuracy: 0.9360\n",
            "Epoch 10/20\n",
            "500/500 [==============================] - 0s 788us/step - loss: 0.7037 - accuracy: 0.9360\n",
            "Epoch 11/20\n",
            "500/500 [==============================] - 0s 786us/step - loss: 0.6910 - accuracy: 0.9370\n",
            "Epoch 12/20\n",
            "500/500 [==============================] - 0s 820us/step - loss: 0.6788 - accuracy: 0.9390\n",
            "Epoch 13/20\n",
            "500/500 [==============================] - 0s 818us/step - loss: 0.6671 - accuracy: 0.9390\n",
            "Epoch 14/20\n",
            "500/500 [==============================] - 0s 772us/step - loss: 0.6558 - accuracy: 0.9410\n",
            "Epoch 15/20\n",
            "500/500 [==============================] - 0s 802us/step - loss: 0.6448 - accuracy: 0.9410\n",
            "Epoch 16/20\n",
            "500/500 [==============================] - 0s 795us/step - loss: 0.6353 - accuracy: 0.9410\n",
            "Epoch 17/20\n",
            "500/500 [==============================] - 0s 840us/step - loss: 0.6253 - accuracy: 0.9430\n",
            "Epoch 18/20\n",
            "500/500 [==============================] - 0s 804us/step - loss: 0.5527 - accuracy: 0.9530\n",
            "Epoch 19/20\n",
            "500/500 [==============================] - 0s 796us/step - loss: 1.0073 - accuracy: 0.9420\n",
            "Epoch 20/20\n",
            "500/500 [==============================] - 0s 794us/step - loss: 0.8588 - accuracy: 0.9430\n"
          ],
          "name": "stdout"
        }
      ]
    },
    {
      "cell_type": "code",
      "metadata": {
        "id": "NHCPWCKuSBdI",
        "colab_type": "code",
        "colab": {
          "base_uri": "https://localhost:8080/",
          "height": 34
        },
        "outputId": "eed161e6-6058-4080-87eb-73c26a403096"
      },
      "source": [
        "test_loss, test_accuracy = model.evaluate(\n",
        "                              dataset_v\n",
        "                          )"
      ],
      "execution_count": 226,
      "outputs": [
        {
          "output_type": "stream",
          "text": [
            "500/500 [==============================] - 0s 721us/step - loss: 11.7002 - accuracy: 0.5000\n"
          ],
          "name": "stdout"
        }
      ]
    },
    {
      "cell_type": "code",
      "metadata": {
        "id": "ghFt08ydbHY7",
        "colab_type": "code",
        "colab": {
          "base_uri": "https://localhost:8080/",
          "height": 34
        },
        "outputId": "bd2f2e02-288d-4bd3-a81e-ec5ef89c0a2f"
      },
      "source": [
        "print(history.history.keys())"
      ],
      "execution_count": 227,
      "outputs": [
        {
          "output_type": "stream",
          "text": [
            "dict_keys(['loss', 'accuracy'])\n"
          ],
          "name": "stdout"
        }
      ]
    },
    {
      "cell_type": "code",
      "metadata": {
        "id": "RBrnuanAVe3E",
        "colab_type": "code",
        "colab": {
          "base_uri": "https://localhost:8080/",
          "height": 34
        },
        "outputId": "6bbaed76-60c5-4635-c2d9-65a3667ebc71"
      },
      "source": [
        "model.predict([[230,19]])"
      ],
      "execution_count": 228,
      "outputs": [
        {
          "output_type": "execute_result",
          "data": {
            "text/plain": [
              "array([[1.]], dtype=float32)"
            ]
          },
          "metadata": {
            "tags": []
          },
          "execution_count": 228
        }
      ]
    },
    {
      "cell_type": "code",
      "metadata": {
        "id": "ApMSkKWvVgK3",
        "colab_type": "code",
        "colab": {
          "base_uri": "https://localhost:8080/",
          "height": 295
        },
        "outputId": "e2d31083-bf8d-4317-a392-45de269cc2d9"
      },
      "source": [
        "plt.plot(history.history['accuracy'])\n",
        "plt.title('model accuracy')\n",
        "plt.ylabel('accuracy')\n",
        "plt.xlabel('epoch')\n",
        "plt.legend(['train', 'test'], loc='upper left')\n",
        "plt.show()"
      ],
      "execution_count": 229,
      "outputs": [
        {
          "output_type": "display_data",
          "data": {
            "image/png": "[encoded data removed]",
            "text/plain": [
              "<Figure size 432x288 with 1 Axes>"
            ]
          },
          "metadata": {
            "tags": [],
            "needs_background": "light"
          }
        }
      ]
    },
    {
      "cell_type": "code",
      "metadata": {
        "id": "Vm77Q1qiaUlU",
        "colab_type": "code",
        "colab": {}
      },
      "source": [
        "def get_rnn_compiled_model():\n",
        "  model = tf.keras.Sequential()\n",
        "  model.add(layers.SimpleRNN(50))\n",
        "  model.add(layers.Dense(5,activation=\"relu\"))\n",
        "  model.add(layers.Dense(1, activation=\"sigmoid\"))\n",
        "  model.compile(optimizer='adam',\n",
        "                loss=keras.losses.SparseCategoricalCrossentropy(from_logits=True),\n",
        "                metrics=['accuracy'])\n",
        "  return model"
      ],
      "execution_count": 230,
      "outputs": []
    },
    {
      "cell_type": "code",
      "metadata": {
        "id": "QFeFyhnse3kU",
        "colab_type": "code",
        "colab": {
          "base_uri": "https://localhost:8080/",
          "height": 370
        },
        "outputId": "f17628ff-a4f5-4f37-ad6b-43cfc7fab33e"
      },
      "source": [
        "model.fit(\n",
        "   dataset, epochs=10,shuffle=True , validation_data=dataset_v\n",
        ")"
      ],
      "execution_count": 217,
      "outputs": [
        {
          "output_type": "stream",
          "text": [
            "Epoch 1/10\n",
            "500/500 [==============================] - 1s 1ms/step - loss: 0.6969 - accuracy: 0.4760 - val_loss: 0.6948 - val_accuracy: 0.5000\n",
            "Epoch 2/10\n",
            "500/500 [==============================] - 1s 1ms/step - loss: 0.6969 - accuracy: 0.4780 - val_loss: 0.6948 - val_accuracy: 0.5000\n",
            "Epoch 3/10\n",
            "500/500 [==============================] - 1s 1ms/step - loss: 0.6969 - accuracy: 0.4780 - val_loss: 0.6948 - val_accuracy: 0.5000\n",
            "Epoch 4/10\n",
            "500/500 [==============================] - 1s 1ms/step - loss: 0.6969 - accuracy: 0.4780 - val_loss: 0.6948 - val_accuracy: 0.5000\n",
            "Epoch 5/10\n",
            "500/500 [==============================] - 1s 1ms/step - loss: 0.6969 - accuracy: 0.4780 - val_loss: 0.6948 - val_accuracy: 0.5000\n",
            "Epoch 6/10\n",
            "500/500 [==============================] - 1s 1ms/step - loss: 0.6969 - accuracy: 0.4780 - val_loss: 0.6948 - val_accuracy: 0.5000\n",
            "Epoch 7/10\n",
            "500/500 [==============================] - 1s 1ms/step - loss: 0.6969 - accuracy: 0.4780 - val_loss: 0.6948 - val_accuracy: 0.5000\n",
            "Epoch 8/10\n",
            "500/500 [==============================] - 1s 1ms/step - loss: 0.6969 - accuracy: 0.4760 - val_loss: 0.6948 - val_accuracy: 0.5000\n",
            "Epoch 9/10\n",
            "500/500 [==============================] - 1s 1ms/step - loss: 0.6969 - accuracy: 0.4760 - val_loss: 0.6948 - val_accuracy: 0.5000\n",
            "Epoch 10/10\n",
            "500/500 [==============================] - 1s 1ms/step - loss: 0.6969 - accuracy: 0.4760 - val_loss: 0.6948 - val_accuracy: 0.5000\n"
          ],
          "name": "stdout"
        },
        {
          "output_type": "execute_result",
          "data": {
            "text/plain": [
              "<tensorflow.python.keras.callbacks.History at 0x7f5180ac70f0>"
            ]
          },
          "metadata": {
            "tags": []
          },
          "execution_count": 217
        }
      ]
    },
    {
      "cell_type": "code",
      "metadata": {
        "id": "sxsuEubjfRH9",
        "colab_type": "code",
        "colab": {
          "base_uri": "https://localhost:8080/",
          "height": 34
        },
        "outputId": "d2441426-c161-4383-d1d8-f765651da9bd"
      },
      "source": [
        "model.predict([[230,27]])"
      ],
      "execution_count": 218,
      "outputs": [
        {
          "output_type": "execute_result",
          "data": {
            "text/plain": [
              "array([[0.5290498]], dtype=float32)"
            ]
          },
          "metadata": {
            "tags": []
          },
          "execution_count": 218
        }
      ]
    },
    {
      "cell_type": "code",
      "metadata": {
        "id": "WL7n_lsifc0R",
        "colab_type": "code",
        "colab": {
          "base_uri": "https://localhost:8080/",
          "height": 34
        },
        "outputId": "55fef1c5-f932-4845-9fcb-43a2e0e85ca7"
      },
      "source": [
        "model.predict([[220,15]])"
      ],
      "execution_count": 231,
      "outputs": [
        {
          "output_type": "execute_result",
          "data": {
            "text/plain": [
              "array([[1.]], dtype=float32)"
            ]
          },
          "metadata": {
            "tags": []
          },
          "execution_count": 231
        }
      ]
    },
    {
      "cell_type": "code",
      "metadata": {
        "id": "k3LfOersh9Dk",
        "colab_type": "code",
        "colab": {
          "base_uri": "https://localhost:8080/",
          "height": 34
        },
        "outputId": "65e55f71-b4fd-44da-9fcb-d0defbf065e7"
      },
      "source": [
        "model.predict([[200,12]])"
      ],
      "execution_count": 232,
      "outputs": [
        {
          "output_type": "execute_result",
          "data": {
            "text/plain": [
              "array([[1.]], dtype=float32)"
            ]
          },
          "metadata": {
            "tags": []
          },
          "execution_count": 232
        }
      ]
    },
    {
      "cell_type": "code",
      "metadata": {
        "id": "6PFkGC5yiANZ",
        "colab_type": "code",
        "colab": {}
      },
      "source": [
        ""
      ],
      "execution_count": 232,
      "outputs": []
    }
  ]
}